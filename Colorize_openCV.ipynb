{
  "nbformat": 4,
  "nbformat_minor": 0,
  "metadata": {
    "colab": {
      "name": "Colorize-openCV.ipynb",
      "provenance": [],
      "collapsed_sections": [],
      "include_colab_link": true
    },
    "kernelspec": {
      "name": "python3",
      "display_name": "Python 3"
    },
    "language_info": {
      "name": "python"
    },
    "accelerator": "GPU"
  },
  "cells": [
    {
      "cell_type": "markdown",
      "metadata": {
        "id": "view-in-github",
        "colab_type": "text"
      },
      "source": [
        "<a href=\"https://colab.research.google.com/github/Ahmed-Hossam-Aldeen/Colorize-Black-and-White-images-and-videos/blob/main/Colorize_openCV.ipynb\" target=\"_parent\"><img src=\"https://colab.research.google.com/assets/colab-badge.svg\" alt=\"Open In Colab\"/></a>"
      ]
    },
    {
      "cell_type": "code",
      "source": [
        "%rm -rf sample_data"
      ],
      "metadata": {
        "id": "MmUwbXPGyZZe"
      },
      "execution_count": null,
      "outputs": []
    },
    {
      "cell_type": "markdown",
      "source": [
        "# Colorize  🎆"
      ],
      "metadata": {
        "id": "Lxmlt3OuTDB7"
      }
    },
    {
      "cell_type": "code",
      "source": [
        "!git clone https://github.com/richzhang/colorization"
      ],
      "metadata": {
        "id": "k4-hY_cftHt0"
      },
      "execution_count": null,
      "outputs": []
    },
    {
      "cell_type": "code",
      "source": [
        "!wget -O input.jpg https://smallbluegreenwords.files.wordpress.com/2014/03/2-valley-view.jpg"
      ],
      "metadata": {
        "id": "aGkhdjIO2gmW"
      },
      "execution_count": null,
      "outputs": []
    },
    {
      "cell_type": "code",
      "source": [
        "\n",
        "import os\n",
        "import matplotlib.pyplot as plt\n",
        "import cv2\n",
        "\n",
        "uploaded = []\n",
        "image = 'input.jpg' #@param {type:\"string\"}\n",
        "delete = 'y' #@param {type:\"string\"}\n",
        "\n",
        "im = cv2.imread(image)\n",
        "h, w, c = im.shape\n",
        "print('width:  ', w)\n",
        "print('height: ', h)\n",
        "\n",
        "uploaded.append(image)\n",
        "!python \"colorization/demo_release.py\" -i {image}\n",
        "image = image[:-4]\n",
        "uploaded.append(image+\"_1.png\")\n",
        "uploaded.append(image+\"_2.png\")\n",
        "os.rename(\"saved_eccv16.png\",f'{image}_1.png')\n",
        "os.rename(\"saved_siggraph17.png\",f'{image}_2.png')\n",
        "\n",
        "from keras.preprocessing import image\n",
        "for fn in uploaded:\n",
        "  fig = plt.figure(figsize=(10,10))\n",
        "  path = fn\n",
        "  img = image.load_img(path, target_size=(h,w))\n",
        "  plt.axis('off')\n",
        "  plt.imshow(img)\n",
        "  plt.show()\n",
        "  \n",
        "# To delete files afterwards\n",
        "if delete == \"y\":\n",
        "  for fn in uploaded:\n",
        "    os.remove(fn)\n"
      ],
      "metadata": {
        "id": "S7Zl_RsnvYpX",
        "cellView": "form"
      },
      "execution_count": null,
      "outputs": []
    },
    {
      "cell_type": "markdown",
      "source": [
        "# **Color Video** ✈"
      ],
      "metadata": {
        "id": "0BfZWxhRUATy"
      }
    },
    {
      "cell_type": "code",
      "source": [
        "!wget https://im5.ezgif.com/tmp/ezgif-5-928b77d88e.mp4"
      ],
      "metadata": {
        "id": "i8keTZVFdhD3"
      },
      "execution_count": null,
      "outputs": []
    },
    {
      "cell_type": "code",
      "source": [
        "# create a folder to store extracted images\n",
        "import os\n",
        "from os import path\n",
        "folder = 'frames'  \n",
        "if path.exists(\"frames\") == False:\n",
        "      os.mkdir(\"frames\")\n",
        "# use opencv to do the job\n",
        "import cv2\n",
        "video_name = \"12angymen2.mp4\"\n",
        "vidcap = cv2.VideoCapture(video_name)\n",
        "count = 0\n",
        "while True:\n",
        "    success,image = vidcap.read()\n",
        "    if not success:\n",
        "        break\n",
        "    cv2.imwrite(os.path.join(folder,\"frame{:d}.jpg\".format(count)), image)     # save frame as JPEG file\n",
        "    count += 1\n",
        "print(\"{} images are extacted in {}.\".format(count,folder))\n",
        "\n",
        "import re\n",
        "filenames = []\n",
        "def sorted_alphanumeric(data):\n",
        "    convert = lambda text: int(text) if text.isdigit() else text.lower()\n",
        "    alphanum_key = lambda key: [ convert(c) for c in re.split('([0-9]+)', key) ] \n",
        "    return sorted(data, key=alphanum_key)\n",
        "\n",
        "filenames = sorted(os.listdir(\"./frames\"))\n",
        "filenames = sorted_alphanumeric(filenames)\n",
        "print(filenames)  "
      ],
      "metadata": {
        "colab": {
          "base_uri": "https://localhost:8080/"
        },
        "id": "yvwm54N0HLYj",
        "outputId": "1d80c925-d558-43d5-cc18-0a1b0c240c3c"
      },
      "execution_count": 30,
      "outputs": [
        {
          "output_type": "stream",
          "name": "stdout",
          "text": [
            "71 images are extacted in frames.\n",
            "['frame0.jpg', 'frame1.jpg', 'frame2.jpg', 'frame3.jpg', 'frame4.jpg', 'frame5.jpg', 'frame6.jpg', 'frame7.jpg', 'frame8.jpg', 'frame9.jpg', 'frame10.jpg', 'frame11.jpg', 'frame12.jpg', 'frame13.jpg', 'frame14.jpg', 'frame15.jpg', 'frame16.jpg', 'frame17.jpg', 'frame18.jpg', 'frame19.jpg', 'frame20.jpg', 'frame21.jpg', 'frame22.jpg', 'frame23.jpg', 'frame24.jpg', 'frame25.jpg', 'frame26.jpg', 'frame27.jpg', 'frame28.jpg', 'frame29.jpg', 'frame30.jpg', 'frame31.jpg', 'frame32.jpg', 'frame33.jpg', 'frame34.jpg', 'frame35.jpg', 'frame36.jpg', 'frame37.jpg', 'frame38.jpg', 'frame39.jpg', 'frame40.jpg', 'frame41.jpg', 'frame42.jpg', 'frame43.jpg', 'frame44.jpg', 'frame45.jpg', 'frame46.jpg', 'frame47.jpg', 'frame48.jpg', 'frame49.jpg', 'frame50.jpg', 'frame51.jpg', 'frame52.jpg', 'frame53.jpg', 'frame54.jpg', 'frame55.jpg', 'frame56.jpg', 'frame57.jpg', 'frame58.jpg', 'frame59.jpg', 'frame60.jpg', 'frame61.jpg', 'frame62.jpg', 'frame63.jpg', 'frame64.jpg', 'frame65.jpg', 'frame66.jpg', 'frame67.jpg', 'frame68.jpg', 'frame69.jpg', 'frame70.jpg']\n"
          ]
        }
      ]
    },
    {
      "cell_type": "code",
      "source": [
        "import shutil\n",
        "if path.exists(\"1\") == False:\n",
        "      os.mkdir(\"1\")\n",
        "if path.exists(\"2\") == False:\n",
        "      os.mkdir(\"2\")   \n",
        "      \n",
        "for i in filenames:\n",
        "  !python \"colorization/demo_release.py\" -i './frames/{i}'\n",
        "  os.rename(\"saved_eccv16.png\",f'{i}_1.png')\n",
        "  shutil.move(f'{i}_1.png',\"./1\")\n",
        "  os.rename(\"saved_siggraph17.png\",f'{i}_2.png')\n",
        "  shutil.move(f'{i}_2.png',\"./2\")"
      ],
      "metadata": {
        "id": "xLTSSiFyPLKA"
      },
      "execution_count": null,
      "outputs": []
    },
    {
      "cell_type": "code",
      "source": [
        "one =[]\n",
        "two = []\n",
        "one = sorted(os.listdir(\"1\"))\n",
        "one = sorted_alphanumeric(one)\n",
        "two = sorted(os.listdir(\"2\"))\n",
        "two = sorted_alphanumeric(two)\n",
        "print(one)\n",
        "print(two)\n",
        "\n",
        "img = cv2.imread(\"./frames/frame0.jpg\")\n",
        "height, width, layers = img.shape\n",
        "size = (width,height)\n",
        "\n",
        "out1 = cv2.VideoWriter('one_'+video_name,cv2.VideoWriter_fourcc(*'DIVX'), 15,size)\n",
        "out2 = cv2.VideoWriter('two_'+video_name,cv2.VideoWriter_fourcc(*'DIVX'), 15,size)\n",
        "\n",
        "for i in one:\n",
        "    img = cv2.imread(f'./1/{i}')\n",
        "    out1.write(img)\n",
        "out1.release()\n",
        "\n",
        "for i in two:\n",
        "    img = cv2.imread(f'./2/{i}')\n",
        "    out2.write(img)\n",
        "out2.release()\n"
      ],
      "metadata": {
        "id": "SaV6XHVZVIel",
        "colab": {
          "base_uri": "https://localhost:8080/"
        },
        "outputId": "387d4a07-932e-4db9-9df1-918ddea8070b"
      },
      "execution_count": 32,
      "outputs": [
        {
          "output_type": "stream",
          "name": "stdout",
          "text": [
            "['frame0.jpg_1.png', 'frame1.jpg_1.png', 'frame2.jpg_1.png', 'frame3.jpg_1.png', 'frame4.jpg_1.png', 'frame5.jpg_1.png', 'frame6.jpg_1.png', 'frame7.jpg_1.png', 'frame8.jpg_1.png', 'frame9.jpg_1.png', 'frame10.jpg_1.png', 'frame11.jpg_1.png', 'frame12.jpg_1.png', 'frame13.jpg_1.png', 'frame14.jpg_1.png', 'frame15.jpg_1.png', 'frame16.jpg_1.png', 'frame17.jpg_1.png', 'frame18.jpg_1.png', 'frame19.jpg_1.png', 'frame20.jpg_1.png', 'frame21.jpg_1.png', 'frame22.jpg_1.png', 'frame23.jpg_1.png', 'frame24.jpg_1.png', 'frame25.jpg_1.png', 'frame26.jpg_1.png', 'frame27.jpg_1.png', 'frame28.jpg_1.png', 'frame29.jpg_1.png', 'frame30.jpg_1.png', 'frame31.jpg_1.png', 'frame32.jpg_1.png', 'frame33.jpg_1.png', 'frame34.jpg_1.png', 'frame35.jpg_1.png', 'frame36.jpg_1.png', 'frame37.jpg_1.png', 'frame38.jpg_1.png', 'frame39.jpg_1.png', 'frame40.jpg_1.png', 'frame41.jpg_1.png', 'frame42.jpg_1.png', 'frame43.jpg_1.png', 'frame44.jpg_1.png', 'frame45.jpg_1.png', 'frame46.jpg_1.png', 'frame47.jpg_1.png', 'frame48.jpg_1.png', 'frame49.jpg_1.png', 'frame50.jpg_1.png', 'frame51.jpg_1.png', 'frame52.jpg_1.png', 'frame53.jpg_1.png', 'frame54.jpg_1.png', 'frame55.jpg_1.png', 'frame56.jpg_1.png', 'frame57.jpg_1.png', 'frame58.jpg_1.png', 'frame59.jpg_1.png', 'frame60.jpg_1.png', 'frame61.jpg_1.png', 'frame62.jpg_1.png', 'frame63.jpg_1.png', 'frame64.jpg_1.png', 'frame65.jpg_1.png', 'frame66.jpg_1.png', 'frame67.jpg_1.png', 'frame68.jpg_1.png', 'frame69.jpg_1.png', 'frame70.jpg_1.png']\n",
            "['frame0.jpg_2.png', 'frame1.jpg_2.png', 'frame2.jpg_2.png', 'frame3.jpg_2.png', 'frame4.jpg_2.png', 'frame5.jpg_2.png', 'frame6.jpg_2.png', 'frame7.jpg_2.png', 'frame8.jpg_2.png', 'frame9.jpg_2.png', 'frame10.jpg_2.png', 'frame11.jpg_2.png', 'frame12.jpg_2.png', 'frame13.jpg_2.png', 'frame14.jpg_2.png', 'frame15.jpg_2.png', 'frame16.jpg_2.png', 'frame17.jpg_2.png', 'frame18.jpg_2.png', 'frame19.jpg_2.png', 'frame20.jpg_2.png', 'frame21.jpg_2.png', 'frame22.jpg_2.png', 'frame23.jpg_2.png', 'frame24.jpg_2.png', 'frame25.jpg_2.png', 'frame26.jpg_2.png', 'frame27.jpg_2.png', 'frame28.jpg_2.png', 'frame29.jpg_2.png', 'frame30.jpg_2.png', 'frame31.jpg_2.png', 'frame32.jpg_2.png', 'frame33.jpg_2.png', 'frame34.jpg_2.png', 'frame35.jpg_2.png', 'frame36.jpg_2.png', 'frame37.jpg_2.png', 'frame38.jpg_2.png', 'frame39.jpg_2.png', 'frame40.jpg_2.png', 'frame41.jpg_2.png', 'frame42.jpg_2.png', 'frame43.jpg_2.png', 'frame44.jpg_2.png', 'frame45.jpg_2.png', 'frame46.jpg_2.png', 'frame47.jpg_2.png', 'frame48.jpg_2.png', 'frame49.jpg_2.png', 'frame50.jpg_2.png', 'frame51.jpg_2.png', 'frame52.jpg_2.png', 'frame53.jpg_2.png', 'frame54.jpg_2.png', 'frame55.jpg_2.png', 'frame56.jpg_2.png', 'frame57.jpg_2.png', 'frame58.jpg_2.png', 'frame59.jpg_2.png', 'frame60.jpg_2.png', 'frame61.jpg_2.png', 'frame62.jpg_2.png', 'frame63.jpg_2.png', 'frame64.jpg_2.png', 'frame65.jpg_2.png', 'frame66.jpg_2.png', 'frame67.jpg_2.png', 'frame68.jpg_2.png', 'frame69.jpg_2.png', 'frame70.jpg_2.png']\n"
          ]
        }
      ]
    },
    {
      "cell_type": "code",
      "source": [
        "import shutil\n",
        "shutil.rmtree(\"frames\")\n",
        "shutil.rmtree(\"1\")  \n",
        "shutil.rmtree(\"2\")    "
      ],
      "metadata": {
        "id": "tN--UQBFQqjq"
      },
      "execution_count": 28,
      "outputs": []
    }
  ]
}